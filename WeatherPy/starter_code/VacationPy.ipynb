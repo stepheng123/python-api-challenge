{
 "cells": [
  {
   "cell_type": "markdown",
   "metadata": {},
   "source": [
    "# VacationPy\n",
    "----\n",
    "\n",
    "#### Note\n",
    "* Instructions have been included for each segment. You do not have to follow them exactly, but they are included to help you think through the steps."
   ]
  },
  {
   "cell_type": "code",
   "execution_count": 15,
   "metadata": {},
   "outputs": [],
   "source": [
    "# Dependencies and Setup\n",
    "import matplotlib.pyplot as plt\n",
    "import pandas as pd\n",
    "import numpy as np\n",
    "import requests\n",
    "import gmaps\n",
    "import os\n",
    "import json\n",
    "import time\n",
    "\n",
    "# Import API key\n",
    "from api_keys import g_key"
   ]
  },
  {
   "cell_type": "markdown",
   "metadata": {},
   "source": [
    "### Store Part I results into DataFrame\n",
    "* Load the csv exported in Part I to a DataFrame"
   ]
  },
  {
   "cell_type": "code",
   "execution_count": 5,
   "metadata": {},
   "outputs": [
    {
     "output_type": "execute_result",
     "data": {
      "text/plain": "     City_ID         City  Cloudiness Country        Date  Humidity    Lat  \\\n0          0    ostrovnoy           2      RU  1558378754        72  68.05   \n1          1    mahebourg          75      MU  1558378503        74 -20.41   \n2          2      qaanaaq          25      GL  1558378755        73  77.48   \n3          3       zhuhai           0      CN  1558378755        39  40.71   \n4          4    cape town          20      ZA  1558378755        76 -33.93   \n..       ...          ...         ...     ...         ...       ...    ...   \n543      543       yabrud           0      SY  1558378840        32  33.97   \n544      544      paraiso           5      MX  1558378898         4  24.01   \n545      545      veraval           0      FR  1558378898        62  49.65   \n546      546  novyy urgal         100      RU  1558378899        93  51.07   \n547      547      tongren           4      CN  1558378899        64  27.72   \n\n        Lng  Max Temp  Wind Speed  \n0     39.51     37.50        7.16  \n1     57.70     78.80       11.41  \n2    -69.36     22.20        2.37  \n3    112.04     44.60        4.47  \n4     18.42     55.99        8.05  \n..      ...       ...         ...  \n543   36.66     80.60        8.05  \n544 -104.61     84.20       16.11  \n545    0.71     61.00        8.05  \n546  132.56     49.74        2.68  \n547  109.18     55.86        2.84  \n\n[548 rows x 10 columns]",
      "text/html": "<div>\n<style scoped>\n    .dataframe tbody tr th:only-of-type {\n        vertical-align: middle;\n    }\n\n    .dataframe tbody tr th {\n        vertical-align: top;\n    }\n\n    .dataframe thead th {\n        text-align: right;\n    }\n</style>\n<table border=\"1\" class=\"dataframe\">\n  <thead>\n    <tr style=\"text-align: right;\">\n      <th></th>\n      <th>City_ID</th>\n      <th>City</th>\n      <th>Cloudiness</th>\n      <th>Country</th>\n      <th>Date</th>\n      <th>Humidity</th>\n      <th>Lat</th>\n      <th>Lng</th>\n      <th>Max Temp</th>\n      <th>Wind Speed</th>\n    </tr>\n  </thead>\n  <tbody>\n    <tr>\n      <th>0</th>\n      <td>0</td>\n      <td>ostrovnoy</td>\n      <td>2</td>\n      <td>RU</td>\n      <td>1558378754</td>\n      <td>72</td>\n      <td>68.05</td>\n      <td>39.51</td>\n      <td>37.50</td>\n      <td>7.16</td>\n    </tr>\n    <tr>\n      <th>1</th>\n      <td>1</td>\n      <td>mahebourg</td>\n      <td>75</td>\n      <td>MU</td>\n      <td>1558378503</td>\n      <td>74</td>\n      <td>-20.41</td>\n      <td>57.70</td>\n      <td>78.80</td>\n      <td>11.41</td>\n    </tr>\n    <tr>\n      <th>2</th>\n      <td>2</td>\n      <td>qaanaaq</td>\n      <td>25</td>\n      <td>GL</td>\n      <td>1558378755</td>\n      <td>73</td>\n      <td>77.48</td>\n      <td>-69.36</td>\n      <td>22.20</td>\n      <td>2.37</td>\n    </tr>\n    <tr>\n      <th>3</th>\n      <td>3</td>\n      <td>zhuhai</td>\n      <td>0</td>\n      <td>CN</td>\n      <td>1558378755</td>\n      <td>39</td>\n      <td>40.71</td>\n      <td>112.04</td>\n      <td>44.60</td>\n      <td>4.47</td>\n    </tr>\n    <tr>\n      <th>4</th>\n      <td>4</td>\n      <td>cape town</td>\n      <td>20</td>\n      <td>ZA</td>\n      <td>1558378755</td>\n      <td>76</td>\n      <td>-33.93</td>\n      <td>18.42</td>\n      <td>55.99</td>\n      <td>8.05</td>\n    </tr>\n    <tr>\n      <th>...</th>\n      <td>...</td>\n      <td>...</td>\n      <td>...</td>\n      <td>...</td>\n      <td>...</td>\n      <td>...</td>\n      <td>...</td>\n      <td>...</td>\n      <td>...</td>\n      <td>...</td>\n    </tr>\n    <tr>\n      <th>543</th>\n      <td>543</td>\n      <td>yabrud</td>\n      <td>0</td>\n      <td>SY</td>\n      <td>1558378840</td>\n      <td>32</td>\n      <td>33.97</td>\n      <td>36.66</td>\n      <td>80.60</td>\n      <td>8.05</td>\n    </tr>\n    <tr>\n      <th>544</th>\n      <td>544</td>\n      <td>paraiso</td>\n      <td>5</td>\n      <td>MX</td>\n      <td>1558378898</td>\n      <td>4</td>\n      <td>24.01</td>\n      <td>-104.61</td>\n      <td>84.20</td>\n      <td>16.11</td>\n    </tr>\n    <tr>\n      <th>545</th>\n      <td>545</td>\n      <td>veraval</td>\n      <td>0</td>\n      <td>FR</td>\n      <td>1558378898</td>\n      <td>62</td>\n      <td>49.65</td>\n      <td>0.71</td>\n      <td>61.00</td>\n      <td>8.05</td>\n    </tr>\n    <tr>\n      <th>546</th>\n      <td>546</td>\n      <td>novyy urgal</td>\n      <td>100</td>\n      <td>RU</td>\n      <td>1558378899</td>\n      <td>93</td>\n      <td>51.07</td>\n      <td>132.56</td>\n      <td>49.74</td>\n      <td>2.68</td>\n    </tr>\n    <tr>\n      <th>547</th>\n      <td>547</td>\n      <td>tongren</td>\n      <td>4</td>\n      <td>CN</td>\n      <td>1558378899</td>\n      <td>64</td>\n      <td>27.72</td>\n      <td>109.18</td>\n      <td>55.86</td>\n      <td>2.84</td>\n    </tr>\n  </tbody>\n</table>\n<p>548 rows × 10 columns</p>\n</div>"
     },
     "metadata": {},
     "execution_count": 5
    }
   ],
   "source": [
    "weather_data = pd.read_csv(\"../output_data/cities.csv\")\n",
    "weather_data"
   ]
  },
  {
   "cell_type": "markdown",
   "metadata": {},
   "source": [
    "### Humidity Heatmap\n",
    "* Configure gmaps.\n",
    "* Use the Lat and Lng as locations and Humidity as the weight.\n",
    "* Add Heatmap layer to map."
   ]
  },
  {
   "cell_type": "code",
   "execution_count": 6,
   "metadata": {},
   "outputs": [],
   "source": [
    "# Configure gmaps\n",
    "gmaps.configure(api_key=g_key)\n",
    "\n",
    "# Store latitude and longitude in locations\n",
    "locations = weather_data[[\"Lat\", \"Lng\"]]\n",
    "\n",
    "# Store Humidity in humidity\n",
    "humidity = weather_data[\"Humidity\"]"
   ]
  },
  {
   "cell_type": "code",
   "execution_count": 7,
   "metadata": {},
   "outputs": [
    {
     "output_type": "display_data",
     "data": {
      "text/plain": "Figure(layout=FigureLayout(height='420px'))",
      "application/vnd.jupyter.widget-view+json": {
       "version_major": 2,
       "version_minor": 0,
       "model_id": "78ce2640ed7f4da292d4b7c13fa19934"
      }
     },
     "metadata": {}
    }
   ],
   "source": [
    "\n",
    "# Plot Heatmap\n",
    "fig = gmaps.figure(center=(46.0, -5.0), zoom_level=2)\n",
    "max_intensity = np.max(humidity)\n",
    "\n",
    "# Create heat layer\n",
    "heat_layer = gmaps.heatmap_layer(locations, weights = humidity, dissipating=False, max_intensity=100, point_radius=3)\n",
    "\n",
    "# Add layer\n",
    "fig.add_layer(heat_layer)\n",
    "\n",
    "# Display figure\n",
    "fig"
   ]
  },
  {
   "cell_type": "code",
   "execution_count": 8,
   "metadata": {},
   "outputs": [
    {
     "output_type": "execute_result",
     "data": {
      "text/plain": "290"
     },
     "metadata": {},
     "execution_count": 8
    }
   ],
   "source": [
    "max_intensity"
   ]
  },
  {
   "cell_type": "markdown",
   "metadata": {},
   "source": [
    "### Create new DataFrame fitting weather criteria\n",
    "* Narrow down the cities to fit weather conditions.\n",
    "* Drop any rows will null values."
   ]
  },
  {
   "cell_type": "code",
   "execution_count": 9,
   "metadata": {},
   "outputs": [
    {
     "output_type": "execute_result",
     "data": {
      "text/plain": "     City_ID          City  Cloudiness Country        Date  Humidity    Lat  \\\n70        70  ponta do sol           0      BR  1558378767        57 -20.63   \n88        88      cidreira           0      BR  1558378770        66 -30.17   \n138      138     morondava           0      MG  1558378780        69 -20.30   \n139      139         vaini           0      IN  1558378780        88  15.34   \n176      176         nador           0      MA  1558378499        40  35.17   \n297      297         mogok           0      MM  1558378844        51  22.92   \n444      444       birjand           0      IR  1558378880        26  32.86   \n\n       Lng  Max Temp  Wind Speed  \n70  -46.00     73.68        5.32  \n88  -50.22     76.56        5.50  \n138  44.28     79.08        9.06  \n139  74.49     78.90        1.59  \n176  -2.93     75.20        6.93  \n297  96.51     72.24        2.77  \n444  59.22     71.60        9.17  ",
      "text/html": "<div>\n<style scoped>\n    .dataframe tbody tr th:only-of-type {\n        vertical-align: middle;\n    }\n\n    .dataframe tbody tr th {\n        vertical-align: top;\n    }\n\n    .dataframe thead th {\n        text-align: right;\n    }\n</style>\n<table border=\"1\" class=\"dataframe\">\n  <thead>\n    <tr style=\"text-align: right;\">\n      <th></th>\n      <th>City_ID</th>\n      <th>City</th>\n      <th>Cloudiness</th>\n      <th>Country</th>\n      <th>Date</th>\n      <th>Humidity</th>\n      <th>Lat</th>\n      <th>Lng</th>\n      <th>Max Temp</th>\n      <th>Wind Speed</th>\n    </tr>\n  </thead>\n  <tbody>\n    <tr>\n      <th>70</th>\n      <td>70</td>\n      <td>ponta do sol</td>\n      <td>0</td>\n      <td>BR</td>\n      <td>1558378767</td>\n      <td>57</td>\n      <td>-20.63</td>\n      <td>-46.00</td>\n      <td>73.68</td>\n      <td>5.32</td>\n    </tr>\n    <tr>\n      <th>88</th>\n      <td>88</td>\n      <td>cidreira</td>\n      <td>0</td>\n      <td>BR</td>\n      <td>1558378770</td>\n      <td>66</td>\n      <td>-30.17</td>\n      <td>-50.22</td>\n      <td>76.56</td>\n      <td>5.50</td>\n    </tr>\n    <tr>\n      <th>138</th>\n      <td>138</td>\n      <td>morondava</td>\n      <td>0</td>\n      <td>MG</td>\n      <td>1558378780</td>\n      <td>69</td>\n      <td>-20.30</td>\n      <td>44.28</td>\n      <td>79.08</td>\n      <td>9.06</td>\n    </tr>\n    <tr>\n      <th>139</th>\n      <td>139</td>\n      <td>vaini</td>\n      <td>0</td>\n      <td>IN</td>\n      <td>1558378780</td>\n      <td>88</td>\n      <td>15.34</td>\n      <td>74.49</td>\n      <td>78.90</td>\n      <td>1.59</td>\n    </tr>\n    <tr>\n      <th>176</th>\n      <td>176</td>\n      <td>nador</td>\n      <td>0</td>\n      <td>MA</td>\n      <td>1558378499</td>\n      <td>40</td>\n      <td>35.17</td>\n      <td>-2.93</td>\n      <td>75.20</td>\n      <td>6.93</td>\n    </tr>\n    <tr>\n      <th>297</th>\n      <td>297</td>\n      <td>mogok</td>\n      <td>0</td>\n      <td>MM</td>\n      <td>1558378844</td>\n      <td>51</td>\n      <td>22.92</td>\n      <td>96.51</td>\n      <td>72.24</td>\n      <td>2.77</td>\n    </tr>\n    <tr>\n      <th>444</th>\n      <td>444</td>\n      <td>birjand</td>\n      <td>0</td>\n      <td>IR</td>\n      <td>1558378880</td>\n      <td>26</td>\n      <td>32.86</td>\n      <td>59.22</td>\n      <td>71.60</td>\n      <td>9.17</td>\n    </tr>\n  </tbody>\n</table>\n</div>"
     },
     "metadata": {},
     "execution_count": 9
    }
   ],
   "source": [
    "narrowed_city_df = weather_data.loc[(weather_data[\"Wind Speed\"] <= 10) & (weather_data[\"Cloudiness\"] == 0) & \\\n",
    "                                   (weather_data[\"Max Temp\"] >= 70) & (weather_data[\"Max Temp\"] <= 80)].dropna()\n",
    "\n",
    "narrowed_city_df"
   ]
  },
  {
   "cell_type": "markdown",
   "metadata": {},
   "source": [
    "### Hotel Map\n",
    "* Store into variable named `hotel_df`.\n",
    "* Add a \"Hotel Name\" column to the DataFrame.\n",
    "* Set parameters to search for hotels with 5000 meters.\n",
    "* Hit the Google Places API for each city's coordinates.\n",
    "* Store the first Hotel result into the DataFrame.\n",
    "* Plot markers on top of the heatmap."
   ]
  },
  {
   "cell_type": "code",
   "execution_count": 11,
   "metadata": {},
   "outputs": [
    {
     "output_type": "execute_result",
     "data": {
      "text/plain": "             City Country    Lat    Lng Hotel Name\n70   ponta do sol      BR -20.63 -46.00           \n88       cidreira      BR -30.17 -50.22           \n138     morondava      MG -20.30  44.28           \n139         vaini      IN  15.34  74.49           \n176         nador      MA  35.17  -2.93           \n297         mogok      MM  22.92  96.51           \n444       birjand      IR  32.86  59.22           ",
      "text/html": "<div>\n<style scoped>\n    .dataframe tbody tr th:only-of-type {\n        vertical-align: middle;\n    }\n\n    .dataframe tbody tr th {\n        vertical-align: top;\n    }\n\n    .dataframe thead th {\n        text-align: right;\n    }\n</style>\n<table border=\"1\" class=\"dataframe\">\n  <thead>\n    <tr style=\"text-align: right;\">\n      <th></th>\n      <th>City</th>\n      <th>Country</th>\n      <th>Lat</th>\n      <th>Lng</th>\n      <th>Hotel Name</th>\n    </tr>\n  </thead>\n  <tbody>\n    <tr>\n      <th>70</th>\n      <td>ponta do sol</td>\n      <td>BR</td>\n      <td>-20.63</td>\n      <td>-46.00</td>\n      <td></td>\n    </tr>\n    <tr>\n      <th>88</th>\n      <td>cidreira</td>\n      <td>BR</td>\n      <td>-30.17</td>\n      <td>-50.22</td>\n      <td></td>\n    </tr>\n    <tr>\n      <th>138</th>\n      <td>morondava</td>\n      <td>MG</td>\n      <td>-20.30</td>\n      <td>44.28</td>\n      <td></td>\n    </tr>\n    <tr>\n      <th>139</th>\n      <td>vaini</td>\n      <td>IN</td>\n      <td>15.34</td>\n      <td>74.49</td>\n      <td></td>\n    </tr>\n    <tr>\n      <th>176</th>\n      <td>nador</td>\n      <td>MA</td>\n      <td>35.17</td>\n      <td>-2.93</td>\n      <td></td>\n    </tr>\n    <tr>\n      <th>297</th>\n      <td>mogok</td>\n      <td>MM</td>\n      <td>22.92</td>\n      <td>96.51</td>\n      <td></td>\n    </tr>\n    <tr>\n      <th>444</th>\n      <td>birjand</td>\n      <td>IR</td>\n      <td>32.86</td>\n      <td>59.22</td>\n      <td></td>\n    </tr>\n  </tbody>\n</table>\n</div>"
     },
     "metadata": {},
     "execution_count": 11
    }
   ],
   "source": [
    "# Create a hotel_df\n",
    "hotel_df = narrowed_city_df.loc[:,[\"City\",\"Country\", \"Lat\", \"Lng\"]]\n",
    "\n",
    "# Add a \"Hotel Name\" column to the DataFrame.\n",
    "hotel_df[\"Hotel Name\"] = \"\"\n",
    "\n",
    "# Display the result\n",
    "hotel_df"
   ]
  },
  {
   "cell_type": "code",
   "execution_count": 12,
   "metadata": {},
   "outputs": [],
   "source": [
    "\n",
    "base_url = \"https://maps.googleapis.com/maps/api/place/nearbysearch/json\"\n",
    "\n",
    "params = {\"type\" : \"hotel\",\n",
    "          \"keyword\" : \"hotel\",\n",
    "          \"radius\" : 5000,\n",
    "          \"key\" : g_key}"
   ]
  },
  {
   "cell_type": "code",
   "execution_count": 16,
   "metadata": {
    "tags": []
   },
   "outputs": [
    {
     "output_type": "stream",
     "name": "stdout",
     "text": "Retrieving Results for Index 70: ponta do sol.\nClosest hotel in ponta do sol is Escarpas Resort.\n------------\nRetrieving Results for Index 88: cidreira.\nClosest hotel in cidreira is Pousada Vila Di Italy.\n------------\nRetrieving Results for Index 138: morondava.\nClosest hotel in morondava is Palissandre Cote Ouest resort & SPA.\n------------\nRetrieving Results for Index 139: vaini.\nClosest hotel in vaini is Dandeli Lake County.\n------------\nRetrieving Results for Index 176: nador.\nClosest hotel in nador is Hotel Marchica Lagoon Resort, Nador Morocco.\n------------\nRetrieving Results for Index 297: mogok.\nClosest hotel in mogok is Mount Mogok Hotel.\n------------\nRetrieving Results for Index 444: birjand.\nClosest hotel in birjand is Ghaem Hotel.\n------------\n-------End of Search-------\n"
    }
   ],
   "source": [
    "for index, row in hotel_df.iterrows():\n",
    "    # get city name, lat, lnt from df\n",
    "    lat = row[\"Lat\"]\n",
    "    lng = row[\"Lng\"]\n",
    "    city_name = row[\"City\"]\n",
    "    \n",
    "    # add keyword to params dict\n",
    "    params[\"location\"] = f\"{lat},{lng}\"\n",
    "\n",
    "    # assemble url and make API request\n",
    "    print(f\"Retrieving Results for Index {index}: {city_name}.\")\n",
    "    response = requests.get(base_url, params=params).json()\n",
    "    \n",
    "    # extract results\n",
    "    results = response['results']\n",
    "    \n",
    "    # save the hotel name to dataframe\n",
    "    try:\n",
    "        print(f\"Closest hotel in {city_name} is {results[0]['name']}.\")\n",
    "        hotel_df.loc[index, \"Hotel Name\"] = results[0]['name']\n",
    "\n",
    "    # if there is no hotel available, show missing field\n",
    "    except (KeyError, IndexError):\n",
    "        print(\"Missing field/result... skipping.\")\n",
    "        \n",
    "    print(\"------------\")\n",
    "    \n",
    "    # Wait 1 sec to make another api request to avoid SSL Error\n",
    "    time.sleep(1)\n",
    "\n",
    "# Print end of search once searching is completed\n",
    "print(\"-------End of Search-------\")"
   ]
  },
  {
   "cell_type": "code",
   "execution_count": 17,
   "metadata": {},
   "outputs": [
    {
     "output_type": "execute_result",
     "data": {
      "text/plain": "             City Country    Lat    Lng  \\\n70   ponta do sol      BR -20.63 -46.00   \n88       cidreira      BR -30.17 -50.22   \n138     morondava      MG -20.30  44.28   \n139         vaini      IN  15.34  74.49   \n176         nador      MA  35.17  -2.93   \n297         mogok      MM  22.92  96.51   \n444       birjand      IR  32.86  59.22   \n\n                                      Hotel Name  \n70                               Escarpas Resort  \n88                         Pousada Vila Di Italy  \n138          Palissandre Cote Ouest resort & SPA  \n139                          Dandeli Lake County  \n176  Hotel Marchica Lagoon Resort, Nador Morocco  \n297                            Mount Mogok Hotel  \n444                                  Ghaem Hotel  ",
      "text/html": "<div>\n<style scoped>\n    .dataframe tbody tr th:only-of-type {\n        vertical-align: middle;\n    }\n\n    .dataframe tbody tr th {\n        vertical-align: top;\n    }\n\n    .dataframe thead th {\n        text-align: right;\n    }\n</style>\n<table border=\"1\" class=\"dataframe\">\n  <thead>\n    <tr style=\"text-align: right;\">\n      <th></th>\n      <th>City</th>\n      <th>Country</th>\n      <th>Lat</th>\n      <th>Lng</th>\n      <th>Hotel Name</th>\n    </tr>\n  </thead>\n  <tbody>\n    <tr>\n      <th>70</th>\n      <td>ponta do sol</td>\n      <td>BR</td>\n      <td>-20.63</td>\n      <td>-46.00</td>\n      <td>Escarpas Resort</td>\n    </tr>\n    <tr>\n      <th>88</th>\n      <td>cidreira</td>\n      <td>BR</td>\n      <td>-30.17</td>\n      <td>-50.22</td>\n      <td>Pousada Vila Di Italy</td>\n    </tr>\n    <tr>\n      <th>138</th>\n      <td>morondava</td>\n      <td>MG</td>\n      <td>-20.30</td>\n      <td>44.28</td>\n      <td>Palissandre Cote Ouest resort &amp; SPA</td>\n    </tr>\n    <tr>\n      <th>139</th>\n      <td>vaini</td>\n      <td>IN</td>\n      <td>15.34</td>\n      <td>74.49</td>\n      <td>Dandeli Lake County</td>\n    </tr>\n    <tr>\n      <th>176</th>\n      <td>nador</td>\n      <td>MA</td>\n      <td>35.17</td>\n      <td>-2.93</td>\n      <td>Hotel Marchica Lagoon Resort, Nador Morocco</td>\n    </tr>\n    <tr>\n      <th>297</th>\n      <td>mogok</td>\n      <td>MM</td>\n      <td>22.92</td>\n      <td>96.51</td>\n      <td>Mount Mogok Hotel</td>\n    </tr>\n    <tr>\n      <th>444</th>\n      <td>birjand</td>\n      <td>IR</td>\n      <td>32.86</td>\n      <td>59.22</td>\n      <td>Ghaem Hotel</td>\n    </tr>\n  </tbody>\n</table>\n</div>"
     },
     "metadata": {},
     "execution_count": 17
    }
   ],
   "source": [
    "\n",
    "# Display the hotel dataframe\n",
    "hotel_df"
   ]
  },
  {
   "cell_type": "code",
   "execution_count": 18,
   "metadata": {},
   "outputs": [],
   "source": [
    "# NOTE: Do not change any of the code in this cell\n",
    "\n",
    "# Using the template add the hotel marks to the heatmap\n",
    "info_box_template = \"\"\"\n",
    "<dl>\n",
    "<dt>Name</dt><dd>{Hotel Name}</dd>\n",
    "<dt>City</dt><dd>{City}</dd>\n",
    "<dt>Country</dt><dd>{Country}</dd>\n",
    "</dl>\n",
    "\"\"\"\n",
    "# Store the DataFrame Row\n",
    "# NOTE: be sure to update with your DataFrame name\n",
    "hotel_info = [info_box_template.format(**row) for index, row in hotel_df.iterrows()]\n",
    "locations = hotel_df[[\"Lat\", \"Lng\"]]"
   ]
  },
  {
   "cell_type": "code",
   "execution_count": 19,
   "metadata": {},
   "outputs": [
    {
     "output_type": "display_data",
     "data": {
      "text/plain": "Figure(layout=FigureLayout(height='420px'))",
      "application/vnd.jupyter.widget-view+json": {
       "version_major": 2,
       "version_minor": 0,
       "model_id": "78ce2640ed7f4da292d4b7c13fa19934"
      }
     },
     "metadata": {}
    }
   ],
   "source": [
    "# Add marker layer and info box content ontop of heat map\n",
    "markers = gmaps.marker_layer(locations, info_box_content = hotel_info)\n",
    "\n",
    "# Add the layer to the map\n",
    "fig.add_layer(markers)\n",
    "\n",
    "# Display Map\n",
    "fig"
   ]
  },
  {
   "cell_type": "code",
   "execution_count": null,
   "metadata": {},
   "outputs": [],
   "source": []
  }
 ],
 "metadata": {
  "kernelspec": {
   "display_name": "Python 3.7.7 64-bit ('base': conda)",
   "language": "python",
   "name": "python_defaultSpec_1600618196105"
  },
  "language_info": {
   "codemirror_mode": {
    "name": "ipython",
    "version": 3
   },
   "file_extension": ".py",
   "mimetype": "text/x-python",
   "name": "python",
   "nbconvert_exporter": "python",
   "pygments_lexer": "ipython3",
   "version": "3.7.7-final"
  },
  "latex_envs": {
   "LaTeX_envs_menu_present": true,
   "autoclose": false,
   "autocomplete": true,
   "bibliofile": "biblio.bib",
   "cite_by": "apalike",
   "current_citInitial": 1,
   "eqLabelWithNumbers": true,
   "eqNumInitial": 1,
   "hotkeys": {
    "equation": "Ctrl-E",
    "itemize": "Ctrl-I"
   },
   "labels_anchors": false,
   "latex_user_defs": false,
   "report_style_numbering": false,
   "user_envs_cfg": false
  }
 },
 "nbformat": 4,
 "nbformat_minor": 2
}